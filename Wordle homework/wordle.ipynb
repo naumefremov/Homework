{
 "cells": [
  {
   "attachments": {},
   "cell_type": "markdown",
   "metadata": {},
   "source": [
    "Wordle @ Homework"
   ]
  },
  {
   "cell_type": "code",
   "execution_count": null,
   "metadata": {},
   "outputs": [],
   "source": [
    "import json\n",
    "import random\n",
    "from base64 import b64decode, b64encode\n",
    "\n",
    "from js import fetch\n",
    "\n",
    "res = await fetch(\"https://raw.githubusercontent.com/luabud/wordle/main/encoded_words.json\")\n",
    "res_text = await res.text()\n",
    "json_words = json.loads(res_text)\n",
    "encoded_words = json_words[\"encoded_words\"]\n",
    "\n",
    "GAME_LENGTH = 5\n",
    "current_turn = 0\n",
    "previous_guesses = {i+1 : \"\" for i in range(GAME_LENGTH)}\n",
    "answer_word = random.choice(encoded_words)\n",
    "\n",
    "def game_over(status):\n",
    "    if status == \"win\":\n",
    "        print(\"Congratulations, you guessed correctly!\")\n",
    "    else:\n",
    "        decoded_word = b64decode(answer_word).decode('utf-8')\n",
    "        print(f\"Sorry, you lost. The correct word was {decoded_word}\")\n",
    "\n",
    "    current_turn = 0\n",
    "    return\n",
    "\n",
    "def wrong_guess_length(guess_word):\n",
    "    if(len(guess_word) < 5):\n",
    "        print(\"Not enough characters.\")\n",
    "    else:\n",
    "        print(\"Too many characters.\")\n",
    "    print(\"Try a guess with 5 letters.\")\n",
    "\n",
    "def is_right_guess(guess, word):\n",
    "    return str(b64encode(guess.encode(\"utf-8\")), \"utf-8\") == word\n",
    "\n",
    "\n",
    "def print_output(guess_word, green_letters, yellow_letters, gray_letters):\n",
    "    output = []\n",
    "    for i, g in enumerate(guess_word):\n",
    "        pair = i, g\n",
    "        if pair in green_letters:\n",
    "            output.append(f\" {g} \")\n",
    "        elif pair in yellow_letters:\n",
    "            output.append(f\"({g})\")\n",
    "        else:\n",
    "            output.append(\" _ \")\n",
    "\n",
    "    previous_guesses[current_turn] = \" \".join(output)\n",
    "    for i in previous_guesses.keys():\n",
    "        print(f\"{i} : {previous_guesses[i]}\")\n",
    "\n",
    "def guess_word(guess_word):\n",
    "\n",
    "    if len(guess_word) != 5:\n",
    "        return wrong_guess_length(guess_word)\n",
    "\n",
    "    global current_turn\n",
    "    current_turn += 1\n",
    "\n",
    "    if current_turn > GAME_LENGTH:\n",
    "        return game_over(\"lose\")\n",
    "\n",
    "    answer_pairs = set(enumerate(str(b64decode(answer_word),  \"utf-8\")))\n",
    "    guess_pairs = set(enumerate(guess_word))\n",
    "\n",
    "    green_letters = answer_pairs & guess_pairs\n",
    "\n",
    "    answer_pairs -= green_letters\n",
    "    guess_pairs -= green_letters\n",
    "\n",
    "    yellow_letters = set()\n",
    "    for guess in guess_pairs:\n",
    "        for answer in answer_pairs:\n",
    "            if guess[1] == answer[1]:\n",
    "                answer_pairs.remove(answer)\n",
    "                yellow_letters.add(guess)\n",
    "                break\n",
    "\n",
    "    gray_letters = guess_pairs - yellow_letters\n",
    "\n",
    "    print_output(guess_word, green_letters, yellow_letters, gray_letters)\n",
    "\n",
    "    if is_right_guess(guess_word,answer_word):\n",
    "        return game_over(\"win\")\n",
    "    if current_turn == GAME_LENGTH:\n",
    "        return game_over(\"lose\")\n",
    "\n"
   ]
  },
  {
   "cell_type": "code",
   "execution_count": null,
   "metadata": {},
   "outputs": [
    {
     "name": "stdout",
     "output_type": "stream",
     "text": [
      "1 : (a)  _   _   _   _ \n",
      "2 : \n",
      "3 : \n",
      "4 : \n",
      "5 : \n"
     ]
    }
   ],
   "source": [
    "guess_word(\"apple\")"
   ]
  },
  {
   "cell_type": "code",
   "execution_count": null,
   "metadata": {},
   "outputs": [
    {
     "name": "stdout",
     "output_type": "stream",
     "text": [
      "1 : (a)  _   _   _   _ \n",
      "2 :  _   a   _   m   a \n",
      "3 : \n",
      "4 : \n",
      "5 : \n"
     ]
    }
   ],
   "source": [
    "guess_word(\"karma\")"
   ]
  },
  {
   "cell_type": "code",
   "execution_count": null,
   "metadata": {},
   "outputs": [
    {
     "name": "stdout",
     "output_type": "stream",
     "text": [
      "1 : (a)  _   _   _   _ \n",
      "2 :  _   a   _   m   a \n",
      "3 :  _   a   _   m   a \n",
      "4 : \n",
      "5 : \n"
     ]
    }
   ],
   "source": [
    "guess_word(\"palma\")"
   ]
  },
  {
   "cell_type": "code",
   "execution_count": null,
   "metadata": {},
   "outputs": [
    {
     "name": "stdout",
     "output_type": "stream",
     "text": [
      "1 : (a)  _   _   _   _ \n",
      "2 :  _   a   _   m   a \n",
      "3 :  _   a   _   m   a \n",
      "4 : (m)  a  (g)  m   a \n",
      "5 : \n"
     ]
    }
   ],
   "source": [
    "guess_word(\"magma\")"
   ]
  },
  {
   "cell_type": "code",
   "execution_count": null,
   "metadata": {},
   "outputs": [
    {
     "name": "stdout",
     "output_type": "stream",
     "text": [
      "1 : (a)  _   _   _   _ \n",
      "2 :  _   a   _   m   a \n",
      "3 :  _   a   _   m   a \n",
      "4 : (m)  a  (g)  m   a \n",
      "5 :  g   a   m   m   a \n",
      "Congratulations, you guessed correctly!\n"
     ]
    }
   ],
   "source": [
    "guess_word(\"gamma\")"
   ]
  }
 ],
 "metadata": {
  "kernelspec": {
   "display_name": "Python 3",
   "language": "python",
   "name": "python3"
  },
  "language_info": {
   "codemirror_mode": {
    "name": "ipython",
    "version": 3
   },
   "file_extension": ".py",
   "mimetype": "text/x-python",
   "name": "python",
   "nbconvert_exporter": "python",
   "pygments_lexer": "ipython3",
   "version": "3.11.2"
  },
  "orig_nbformat": 4,
  "vscode": {
   "interpreter": {
    "hash": "b603f0fd2deb61f8396670db1bd7813a7635c0198e2876929d42b04df5acdd0b"
   }
  }
 },
 "nbformat": 4,
 "nbformat_minor": 2
}
